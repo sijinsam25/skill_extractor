{
  "cells": [
    {
      "cell_type": "code",
      "execution_count": null,
      "metadata": {
        "id": "2hxwPr8hYcB9"
      },
      "outputs": [],
      "source": [
        "from pyresparser import ResumeParser\n",
        "import os\n",
        "from docx import Document"
      ]
    },
    {
      "cell_type": "code",
      "execution_count": null,
      "metadata": {
        "id": "gsari387YcB_",
        "outputId": "ea52de85-29dd-4380-dc32-d089397fbcb9"
      },
      "outputs": [
        {
          "name": "stdout",
          "output_type": "stream",
          "text": [
            "cv.pdf\n"
          ]
        }
      ],
      "source": [
        "##file format should be in .txt , .docx or .pdf only\n",
        "filed=input()"
      ]
    },
    {
      "cell_type": "code",
      "execution_count": null,
      "metadata": {
        "id": "kU0chzo7YcB_",
        "outputId": "c7db4d0c-b8d0-40e3-f83c-c8fe1e6820aa"
      },
      "outputs": [
        {
          "name": "stdout",
          "output_type": "stream",
          "text": [
            "['C', 'Statistics', 'Word', 'Database', 'Analysis', 'Engineering', 'C++', 'Html', 'Design', 'Pyqt', 'Css', 'Ui', 'Python', 'Modeling', 'Sci', 'Keras', 'Opencv', 'Coding', 'Algorithms', 'Prototype', 'Github', 'Chemicals', 'Machine learning', 'Programming', 'Testing', 'Training', 'Api']\n"
          ]
        }
      ],
      "source": [
        "try:\n",
        "    doc = Document()\n",
        "    with open(filed, 'r') as file:\n",
        "        doc.add_paragraph(file.read())\n",
        "    doc.save(\"text.docx\")\n",
        "    data = ResumeParser('text.docx').get_extracted_data()\n",
        "    print(data['skills'])\n",
        "except:\n",
        "    data = ResumeParser(filed).get_extracted_data()\n",
        "    print(data['skills'])"
      ]
    },
    {
      "cell_type": "code",
      "execution_count": null,
      "metadata": {
        "id": "JyS3WvP1YcCA"
      },
      "outputs": [],
      "source": []
    },
    {
      "cell_type": "code",
      "execution_count": null,
      "metadata": {
        "id": "Ts7FUreLYcCA"
      },
      "outputs": [],
      "source": [
        "#K:\\resume_sample\\cv.pdf\n",
        "#K:\\resume_sample\\AmanSharma.pdf"
      ]
    },
    {
      "cell_type": "code",
      "execution_count": null,
      "metadata": {
        "id": "D4QG912tYcCA"
      },
      "outputs": [],
      "source": []
    }
  ],
  "metadata": {
    "kernelspec": {
      "display_name": "Python 3",
      "language": "python",
      "name": "python3"
    },
    "language_info": {
      "codemirror_mode": {
        "name": "ipython",
        "version": 3
      },
      "file_extension": ".py",
      "mimetype": "text/x-python",
      "name": "python",
      "nbconvert_exporter": "python",
      "pygments_lexer": "ipython3",
      "version": "3.7.6"
    },
    "colab": {
      "provenance": []
    }
  },
  "nbformat": 4,
  "nbformat_minor": 0
}